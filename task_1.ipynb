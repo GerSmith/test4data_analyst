{
 "cells": [
  {
   "cell_type": "markdown",
   "id": "14e6a683",
   "metadata": {},
   "source": [
    "# Задание 1\n",
    "\n",
    "Вы измеряете физическую величину, например, давление, следите, чтобы оно не превышало 5 атм. \n",
    "Получили ряд измерений, при этом условия процесса не менялись. Давление на самом деле было постоянным.\n",
    "Измерения: *5.2*, *4.3*, *4.7*, *4.9*, *5.5* атм.\n",
    "\n",
    "С какой вероятностью давление:\n",
    "  - **ниже 5 атм?**\n",
    "  - **ниже 4 атм?**"
   ]
  },
  {
   "cell_type": "markdown",
   "id": "f8a90998",
   "metadata": {},
   "source": [
    "---\n",
    "\n",
    "## Решение\n",
    "\n",
    "Поскольку ни сам метод измерения, ни погрешность измерительного прибора неизвестна, то оценим вероятность наступления двух событий:\n",
    " - событие A давление ниже 5 атм,\n",
    " - событие B давление ниже 4 атм,\n",
    " \n",
    "на основе имеющегося ряда измерений, для этого применим классическое определение вероятности."
   ]
  },
  {
   "cell_type": "code",
   "execution_count": 1,
   "id": "197e10ec",
   "metadata": {},
   "outputs": [],
   "source": [
    "measurements = (5.2, 4.3, 4.7, 4.9, 5.5)"
   ]
  },
  {
   "cell_type": "code",
   "execution_count": 2,
   "id": "3f05a662",
   "metadata": {},
   "outputs": [
    {
     "name": "stdout",
     "output_type": "stream",
     "text": [
      "Вероятность того что давление ниже 5.0 атм, равна = 0.600\n"
     ]
    }
   ],
   "source": [
    "# Событие A\n",
    "# есть отношение числа измерений, которые ниже 5 атм к общему количеству измерений\n",
    "condition = 5.0\n",
    "p_A = len([m for m in measurements if m < condition]) / len(measurements)\n",
    "\n",
    "print(f'Вероятность того что давление ниже {condition} атм, равна = {p_A:0.3f}')"
   ]
  },
  {
   "cell_type": "code",
   "execution_count": 3,
   "id": "2f83943d",
   "metadata": {},
   "outputs": [
    {
     "name": "stdout",
     "output_type": "stream",
     "text": [
      "Вероятность того что давление ниже 4.0 атм, равна = 0.000\n"
     ]
    }
   ],
   "source": [
    "# Событие B\n",
    "# есть отношение числа измерений, которые ниже 4 атм к общему количеству измерений\n",
    "condition = 4.0\n",
    "p_B = len([m for m in measurements if m < condition]) / len(measurements)\n",
    "\n",
    "print(f'Вероятность того что давление ниже {condition} атм, равна = {p_B:0.3f}')"
   ]
  },
  {
   "cell_type": "markdown",
   "id": "ba9402fa",
   "metadata": {},
   "source": [
    "## Ответ\n",
    "\n",
    "Вероятность того, что давление ниже 5.0 атм, равна = 0.60\n",
    "\n",
    "Вероятность того, что давление ниже 4.0 атм, равна = 0.00"
   ]
  }
 ],
 "metadata": {
  "kernelspec": {
   "display_name": "Python 3 (ipykernel)",
   "language": "python",
   "name": "python3"
  },
  "language_info": {
   "codemirror_mode": {
    "name": "ipython",
    "version": 3
   },
   "file_extension": ".py",
   "mimetype": "text/x-python",
   "name": "python",
   "nbconvert_exporter": "python",
   "pygments_lexer": "ipython3",
   "version": "3.11.1"
  }
 },
 "nbformat": 4,
 "nbformat_minor": 5
}
