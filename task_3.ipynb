{
 "cells": [
  {
   "cell_type": "markdown",
   "id": "7e88ef03",
   "metadata": {},
   "source": [
    "# Задание 3\n",
    "\n",
    "Данные о полетах пассажирских самолётов представллены в файлах .csv\n",
    "\n",
    "Требуется определить, с какой вероятностью рейс задержится более чем на *15 минут*\n"
   ]
  },
  {
   "cell_type": "markdown",
   "id": "f82f0775",
   "metadata": {},
   "source": [
    "---\n",
    "## Решение"
   ]
  },
  {
   "cell_type": "code",
   "execution_count": null,
   "id": "e6839077",
   "metadata": {},
   "outputs": [],
   "source": []
  }
 ],
 "metadata": {
  "kernelspec": {
   "display_name": "Python 3 (ipykernel)",
   "language": "python",
   "name": "python3"
  },
  "language_info": {
   "codemirror_mode": {
    "name": "ipython",
    "version": 3
   },
   "file_extension": ".py",
   "mimetype": "text/x-python",
   "name": "python",
   "nbconvert_exporter": "python",
   "pygments_lexer": "ipython3",
   "version": "3.11.1"
  }
 },
 "nbformat": 4,
 "nbformat_minor": 5
}
