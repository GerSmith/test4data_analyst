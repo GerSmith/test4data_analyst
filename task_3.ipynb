{
 "cells": [
  {
   "cell_type": "markdown",
   "id": "7e88ef03",
   "metadata": {},
   "source": [
    "# Задание 3\n",
    "\n",
    "Данные о полетах пассажирских самолётов представллены в файлах .csv\n",
    "\n",
    "Требуется определить, с какой вероятностью рейс задержится более чем на *15 минут*\n"
   ]
  },
  {
   "cell_type": "markdown",
   "id": "f82f0775",
   "metadata": {},
   "source": [
    "---\n",
    "## Решение\n",
    "\n",
    "1. Загрузим данные из *.csv* файлов в два набора (датасета) с использованием pandas"
   ]
  },
  {
   "cell_type": "code",
   "execution_count": 1,
   "id": "e6839077",
   "metadata": {},
   "outputs": [],
   "source": [
    "import os\n",
    "import pandas as pd\n",
    "\n",
    "# определим константы - путь к файлам (файлы должны находится в каталоге с jnotebook)\n",
    "TEST_F = r'flight_delays_test.csv'\n",
    "TRAIN_F = r'flight_delays_train.csv'\n",
    "\n",
    "# загружаем тестовый датафрейм\n",
    "if os.path.exists(TEST_F):\n",
    "    test_df = pd.read_csv(TEST_F)\n",
    "else:\n",
    "    print('Ошибка чтения данных')\n",
    "\n",
    "# тестовый вывод\n",
    "# print(test_df.head(10))"
   ]
  },
  {
   "cell_type": "code",
   "execution_count": 2,
   "id": "f5c11ea7",
   "metadata": {},
   "outputs": [],
   "source": [
    "# загружаем натренированный датафрейм\n",
    "if os.path.exists(TRAIN_F):\n",
    "    train_df = pd.read_csv(TRAIN_F)\n",
    "else:\n",
    "    print('Ошибка чтения данных')\n",
    "\n",
    "# тестовый вывод\n",
    "# print(train_df.head(10))"
   ]
  },
  {
   "cell_type": "markdown",
   "id": "f791580c",
   "metadata": {},
   "source": [
    "2. Задача предсказать задержку вылета более 15 минут - задача бинарной классификации\n",
    "\n",
    "Для оценки тренировочного сета возьмем логистическую регрессию (модель, для прогнозирования вероятности возникновения некоторого события путём его сравнения с логистической кривой) и два признака: `DepTime` и `Distance`."
   ]
  },
  {
   "cell_type": "code",
   "execution_count": 3,
   "id": "657283a7",
   "metadata": {},
   "outputs": [],
   "source": [
    "# признаки для модели\n",
    "X = train_df[['Distance', 'DepTime']].values\n",
    "# целевой признак, преобразованный в формат 1 или 0\n",
    "Y = train_df['dep_delayed_15min'].map({'Y': 1, 'N': 0}).values\n",
    "\n",
    "# разделим массивы на натренированные и тестовые наборы\n",
    "from sklearn.model_selection import train_test_split\n",
    "\n",
    "X_train, X_test, y_train, y_test = train_test_split(X, Y, test_size=0.3, random_state=17) # random_state управляет перемешиванием данных\n",
    "\n",
    "# создадим объект логистической регрессии\n",
    "from sklearn.linear_model import LogisticRegression\n",
    "\n",
    "lr = LogisticRegression(solver='lbfgs', random_state=17)\n",
    "\n",
    "# подбирём модель в соответствии с данными обучения\n",
    "lr.fit(X_train, y_train)\n",
    "\n",
    "# оценим вероятность тестовых данных\n",
    "y_pred = lr.predict_proba(X_test)[:, 1]"
   ]
  },
  {
   "cell_type": "markdown",
   "id": "bc140e49",
   "metadata": {},
   "source": [
    "3. Наиболее часто для представления результатов бинарной классификации в машинном обучении используется ROC-кривая, точнее площадь под ROC кривой - AUC ROC\n"
   ]
  },
  {
   "cell_type": "code",
   "execution_count": 4,
   "id": "d096c9d0",
   "metadata": {},
   "outputs": [
    {
     "name": "stdout",
     "output_type": "stream",
     "text": [
      "AUC ROC: 0.680\n"
     ]
    }
   ],
   "source": [
    "# для этого воспользуемся функционалом библиотеки sklearn\n",
    "from sklearn.metrics import roc_auc_score\n",
    "\n",
    "print(f'AUC ROC: {roc_auc_score(y_test, y_pred):0.3f}')"
   ]
  },
  {
   "cell_type": "markdown",
   "id": "a335eb61",
   "metadata": {},
   "source": [
    "*Примечание*\n",
    "Для достижения максимального значения показателя AUC-ROC можно выполнить:\n",
    " - предобработку данных;\n",
    " - настройку параметров обучения;\n",
    " - использование стекинга, отбора признаков и другое."
   ]
  }
 ],
 "metadata": {
  "kernelspec": {
   "display_name": "Python 3 (ipykernel)",
   "language": "python",
   "name": "python3"
  },
  "language_info": {
   "codemirror_mode": {
    "name": "ipython",
    "version": 3
   },
   "file_extension": ".py",
   "mimetype": "text/x-python",
   "name": "python",
   "nbconvert_exporter": "python",
   "pygments_lexer": "ipython3",
   "version": "3.11.1"
  }
 },
 "nbformat": 4,
 "nbformat_minor": 5
}
